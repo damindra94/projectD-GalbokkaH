{
 "cells": [
  {
   "cell_type": "markdown",
   "id": "716b806e-60ad-4e87-b275-d5e91ca32fa1",
   "metadata": {
    "id": "716b806e-60ad-4e87-b275-d5e91ca32fa1"
   },
   "source": [
    "# Project : Weekly Task & Habit Tracker\n",
    "## Overview of the Project\n",
    "In this project, you will develop a Weekly Task & Habit Tracker using Python. This tool will help users track their tasks and habits throughout the week, allowing them to efficiently manage and monitor their daily routines and progress. Whether for personal use or as a professional productivity tool, this project will empower you to create a highly functional, interactive application using fundamental programming concepts in Python.\n",
    "\n",
    "The task tracker will allow users to:\n",
    "\n",
    "- Add tasks to specific days of the week and being able to mark them as completed.\n",
    "- Add and track daily habits (such as exercise, water intake, reading, etc) and mark them as completed.\n",
    "- Remove tasks or habits when no longer needed.\n",
    "- View progress reports for both tasks and habits over a weekly or daily basis.\n",
    "\n",
    "## Objectives of the Project\n",
    "The primary goal of this project is to build a simple yet effective task and habit tracking application. Through this, you will:\n",
    "\n",
    "- Gain hands-on experience in developing Python applications with user input, loops, and conditionals.\n",
    "- Understand how to manage and manipulate data structures like dictionaries and lists to store and process data.\n",
    "- Learn how to design and implement interactive user interfaces in a command-line environment.\n",
    "- Develop a deep understanding of code modularity and best practices for organizing Python programs.\n",
    "\n",
    "## Evaluation Criteria\n",
    "Your project will be evaluated on the following aspects:\n",
    "\n",
    "- **Functionality**: The application should be fully functional, allowing users to add, remove, and mark tasks or habits as complete, as well as generate reports.\n",
    "\n",
    "- **Code Organization**: Code should be well-structured, with clear, meaningful variable names and appropriate use of functions. The overall organization should make it easy to extend or modify the program in the future.\n",
    "\n",
    "- **User Experience**: The application should be easy to use, with clear instructions, error handling, and appropriate feedback for the user.\n",
    "\n",
    "- **Completeness**: Ensure all features are implemented as described and that the program runs smoothly without errors.\n",
    "\n",
    "- **Creativity**: The application should be developed with an eye toward user experience. Feel free to enhance the application with additional features such as custom messages or additional functionality.\n",
    "\n",
    "\n",
    "By the end of this project, you will have developed a working task and habit tracker in Python, an excellent demonstration of your ability to apply programming skills to practical scenarios. You will also gain insights into software design, data management, and the development of tools that are both useful and efficient."
   ]
  },
  {
   "cell_type": "markdown",
   "id": "d5d1b472-0df8-4ffc-9ad6-f99d2eec262d",
   "metadata": {
    "id": "d5d1b472-0df8-4ffc-9ad6-f99d2eec262d"
   },
   "source": [
    "## Part 1: Initial Setup\n",
    "Set up the foundational structure for your weekly task and habit tracker.\n",
    "### Instructions:\n",
    "1. Create a list containing all the days of the week **('Monday', 'Tuesday', 'Wednesday', 'Thursday', 'Friday', 'Saturday', 'Sunday')**.\n",
    "2. Initialize an empty dictionary that will be used to track habits for the week.\n",
    "3. Create a second dictionary that uses the days of the week as keys, with each key initially linked to an empty dictionary for storing tasks."
   ]
  },
  {
   "cell_type": "code",
   "execution_count": 9,
   "id": "f1547fa4-5741-4921-9cc0-8774c11ee377",
   "metadata": {
    "id": "f1547fa4-5741-4921-9cc0-8774c11ee377"
   },
   "outputs": [],
   "source": [
    "#Part 1 Foundational structure for your weekly task and habit tracker   \n",
    "# initialize required variables\n",
    "tuple_days=('Monday', 'Tuesday', 'Wednesday', 'Thursday', 'Friday', 'Saturday', 'Sunday')\n",
    "habits_week={}\n",
    "days_keys= {days:[]\n",
    "        \n",
    "            for days in tuple_days\n",
    "                 }   \n"
   ]
  },
  {
   "cell_type": "markdown",
   "id": "9638fbde-9b43-4c68-ae54-77f251099b8e",
   "metadata": {
    "id": "9638fbde-9b43-4c68-ae54-77f251099b8e"
   },
   "source": [
    "## Part 2: Add Tasks and Habits\n",
    "Build functions that let users add tasks to specific days and habits for the entire week.\n",
    "### Instructions\n",
    "1. **Create a function to add tasks:**\n",
    "- Ask the user which day they want to add the task to.\n",
    "- Make sure to validate the day. Display a message if the day was invalid.\n",
    "- Ask for the task name.\n",
    "- Store it in the dictionary you created to store tasks under the correct day.\n",
    "- Set the task’s value to *False* to show it hasn’t been completed yet.\n",
    "\n",
    "\n",
    "2. **Create a function to add habits:**\n",
    "- Ask the user for the name of the habit (e.g., “Drink Water”).\n",
    "- Make sure to check if the habit already exists. Display a message if it does.\n",
    "- If it’s new, add it to the dictionary you created to store habits.\n",
    "- For that habit, create a nested dictionary with all 7 days set to *False*.\n",
    "\n",
    "\n",
    "**Tip:** Use ***.strip()*** and ***.title()*** to clean up user input.\n",
    "- **.strip()** = Removes any extra spaces at the beginning or end of the text. People often hit the spacebar by accident and add leading or trailing unwanted spaces. Example: \"  Monday  \" can be fixed by using .strip(): \"Monday\"\"\n",
    "- **.title()** = Capitalizes the first letter of each word and makes the rest lowercase. It helps match formatting exactly (especially for days of the week). Example: \"monday\" or \"MONDAY\"\" will be changed to \"Monday\".\n",
    "- **If the day does not exist, show a helpful error message.**"
   ]
  },
  {
   "cell_type": "code",
   "execution_count": 13,
   "id": "8995f570-5756-4e19-9252-c80cb14a6d68",
   "metadata": {},
   "outputs": [],
   "source": [
    "#initializing required variables for part 3\n",
    "import datetime\n",
    "# function to calculate the date for the given day of this week (adding this part here because part 6 wouldn't run properly without this \n",
    "def today_week(day_name):\n",
    "       days = ['Monday', 'Tuesday', 'Wednesday', 'Thursday', 'Friday', 'Saturday', 'Sunday']\n",
    "       today = datetime.datetime.now().date()\n",
    "       weekday_index = days.index(day_name)\n",
    "       days_ago = (today.weekday() - weekday_index) % 7\n",
    "       return today - datetime.timedelta(days=days_ago)"
   ]
  },
  {
   "cell_type": "code",
   "execution_count": 45,
   "id": "8e5a08ca-bd93-486c-9dbd-621e16e3064c",
   "metadata": {
    "id": "8e5a08ca-bd93-486c-9dbd-621e16e3064c"
   },
   "outputs": [
    {
     "name": "stdin",
     "output_type": "stream",
     "text": [
      "Enter the day you would like to add the task to:  friday \n",
      "Enter the task for the day:  completing project\n"
     ]
    },
    {
     "name": "stdout",
     "output_type": "stream",
     "text": [
      "Task entered for the day has not been completed yet!\n"
     ]
    }
   ],
   "source": [
    "#Part:2  1)\n",
    "\n",
    "#function to add tasks\n",
    "def add_task(days_keys):\n",
    "    # Defining valid days\n",
    "    valid_days = ('Monday', 'Tuesday', 'Wednesday', 'Thursday', 'Friday', 'Saturday', 'Sunday')\n",
    "\n",
    "    #Asking user to enter the day\n",
    "    day = input(\"Enter the day you would like to add the task to: \").strip().title()\n",
    "\n",
    "    #validating the day and displaying error message if the day is invalid\n",
    "    if day not in valid_days:\n",
    "        print(\"Invalid day, please try again.\")\n",
    "        return   \n",
    "\n",
    "    # Asking the user for task name\n",
    "    task_name = input(\"Enter the task for the day: \").strip().title()\n",
    "    task_date = today_week(day)\n",
    "    #Storing in dictionary and setting the task’s value to False to show it hasn’t been completed\n",
    "    \n",
    "    days_keys[day].append({\"task_name\": task_name, \"completed\": False, \"task_date\": task_date})\n",
    "    \n",
    "     # Advising user that task has not been completed\n",
    "    print(\"Task entered for the day has not been completed yet!\")\n",
    "\n",
    "\n",
    "add_task(days_keys)\n"
   ]
  },
  {
   "cell_type": "code",
   "execution_count": 34,
   "id": "4ce280fe-fea3-43e4-be24-022607ffa934",
   "metadata": {
    "id": "4ce280fe-fea3-43e4-be24-022607ffa934",
    "scrolled": true
   },
   "outputs": [
    {
     "name": "stdin",
     "output_type": "stream",
     "text": [
      "Enter the name of the habit(e.g: drinking water): eating healthy \n"
     ]
    },
    {
     "name": "stdout",
     "output_type": "stream",
     "text": [
      "Good job! Your new habit has been added\n"
     ]
    }
   ],
   "source": [
    "#Part 2 2)\n",
    "#Function to add habits\n",
    "\n",
    "def enter_habit(habits_week):\n",
    "    valid_days = ('Monday', 'Tuesday', 'Wednesday', 'Thursday', 'Friday', 'Saturday', 'Sunday')\n",
    "    #Asking user to enter the name of the habit\n",
    "    user_habit=input(\"Enter the name of the habit(e.g: drinking water):\").strip().title()\n",
    "\n",
    "# Making sure habit already exists and displaying a message to confirm it\n",
    "    if  user_habit in habits_week:\n",
    "        print(' Your habit already exists!')\n",
    "        return\n",
    "        \n",
    " # adding new habits to the dictionary and for that habit, creating a nested dictionary with all 7 days set to False.\n",
    "   \n",
    "    habits_week[user_habit]={day:False for day in valid_days}\n",
    "    print('Good job! Your new habit has been added')\n",
    "        \n",
    "habit_week={}\n",
    "enter_habit(habits_week)\n"
   ]
  },
  {
   "cell_type": "markdown",
   "id": "2b4d9b4d-c7cb-4e18-a989-6bf66ce0488d",
   "metadata": {
    "id": "2b4d9b4d-c7cb-4e18-a989-6bf66ce0488d"
   },
   "source": [
    "## Part 3: Marking Tasks and Habits as Complete\n",
    "In this part, you'll implement two functions to allow users to mark their progress: one for tasks and one for habits.\n",
    "### Instructions:\n",
    "1. Create a function to mark tasks as complete:\n",
    "- Display all uncompleted tasks along with the day they belong to.\n",
    "- Ask the user to enter the name of the task they completed.\n",
    "- Find and update the task in your data structure by setting its value to *True*.\n",
    "- If all tasks are completed, display a message saying so.\n",
    "- Make sure to validate the day and check if the task exists. Display a message if the task does not exist or if the day was invalid.\n",
    "- **BONUS:** If the task is from a day before today, print a encouraging or funny message like: \"Task marked as complete. Better late than never!\" **Tip:** You can use the *datetime* library.\n",
    "\n",
    "2. Create a function to mark habits as complete:\n",
    "- Ask the user to enter the day and the name of the habit.\n",
    "- Make sure to validate the day and check if the habit exists. Display a message if the habit does not exist or if the day was invalid.\n",
    "- Update the habit’s status for that day by setting its value to *True*.\n",
    "\n",
    "#### Tips:\n",
    "- Use **.strip()** and **.title()** to clean up user input.\n",
    "- Always check if the dictionary contains data before trying to access something.\n",
    "- **If the day, habit or task doesn't exist, show a helpful error message.**\n",
    "  \n",
    "**Helpful note:** You can access a dictionary’s information using loops like this:"
   ]
  },
  {
   "cell_type": "code",
   "execution_count": null,
   "id": "30bb895d-dd03-402a-ac23-98b07fae6602",
   "metadata": {
    "id": "30bb895d-dd03-402a-ac23-98b07fae6602",
    "outputId": "eb3b27e8-aa92-433b-e363-8b7ca0fbe209"
   },
   "outputs": [
    {
     "name": "stdout",
     "output_type": "stream",
     "text": [
      "a = 1\n",
      "b = 2\n",
      "c = 3\n"
     ]
    }
   ],
   "source": [
    "my_dict = {\n",
    "    \"a\": 1,\n",
    "    \"b\": 2,\n",
    "    \"c\": 3\n",
    "}\n",
    "\n",
    "# Loop through keys and values\n",
    "for key, value in my_dict.items():\n",
    "    print(f\"{key} = {value}\")\n"
   ]
  },
  {
   "cell_type": "markdown",
   "id": "3232b6a3-02ef-448e-9d92-4579cf3dc54a",
   "metadata": {
    "id": "3232b6a3-02ef-448e-9d92-4579cf3dc54a"
   },
   "source": [
    "This will print each key and its value.\n",
    "\n",
    "You can also loop just through keys with ***for key in my_dict:*** or just values with for value in ***my_dict.values():***"
   ]
  },
  {
   "cell_type": "code",
   "execution_count": 29,
   "id": "ac83b67f-6984-4325-b9e0-1dbc2a0f58b8",
   "metadata": {
    "id": "ac83b67f-6984-4325-b9e0-1dbc2a0f58b8"
   },
   "outputs": [
    {
     "name": "stdout",
     "output_type": "stream",
     "text": [
      "Incomplete tasks: \n",
      "-Cooking (Monday)❌\n",
      "-Running Errands (Monday)❌\n",
      "-Completing Project (Monday)❌\n",
      "-Cooking (Monday)❌\n",
      "-Grocery Shopping (Wednesday)❌\n"
     ]
    },
    {
     "name": "stdin",
     "output_type": "stream",
     "text": [
      "Enter the day the task was assigned to:  monday\n",
      "Enter the task name you completed:  cooking\n"
     ]
    },
    {
     "name": "stdout",
     "output_type": "stream",
     "text": [
      "The task 'Cooking' on Monday is already marked as completed.\n"
     ]
    }
   ],
   "source": [
    "# part 3 1)\n",
    "#datetime library and function on cell 13\n",
    "    \n",
    "def update_task():\n",
    "    # Displaying all uncompleted tasks along with the day they belong to\n",
    "    valid_days=['Monday','Tuesday','Wednesday','Thursday','Friday','Saturday','Sunday']\n",
    "    print(\"Incomplete tasks: \")\n",
    "    \n",
    "    incomplete=[] \n",
    "    for day, tasks in days_keys.items():\n",
    "        for task in tasks:\n",
    "            if not task['completed']:\n",
    "                incomplete.append((day,task))\n",
    "    \n",
    "    if not incomplete:\n",
    "        print(\"Congratulations! All tasks have been completed!\")\n",
    "        return\n",
    "        \n",
    "    for day, task in incomplete:\n",
    "        print(f\"-{task['task_name']} ({day})❌\")\n",
    "    #Asking user to enter the day\n",
    "    enter_day=input (\"Enter the day the task was assigned to: \").strip().title()\n",
    "    if enter_day not in valid_days:\n",
    "        print(\"Invalud day! Please try again.\")\n",
    "        return\n",
    "        \n",
    "    # Asking user for task name completed\n",
    "    enter_task = input(\"Enter the task name you completed: \").strip().title()\n",
    "    #Checking if the task exists for that day\n",
    "    tasks_on_day = days_keys.get(enter_day, [])\n",
    "    for task in tasks_on_day:\n",
    "        if task['task_name'].lower() == enter_task.lower():\n",
    "            if task['completed']:\n",
    "                print(f\"The task '{enter_task}' on {enter_day} is already marked as completed.\")\n",
    "                return\n",
    "            else:\n",
    "                task['completed']=True\n",
    "                current_date= datetime.datetime.now().date()\n",
    "                if task['task_date'] <current_date:\n",
    "                    print(f\"Task marked as completed from {enter_day}. Better late than never!\")\n",
    "                else:\n",
    "                    print(f\"Good job! Task marked as completed from {enter_day}!\")\n",
    "                    break\n",
    "   \n",
    "    # Check if any tasks are still incomplete\n",
    "    current_incomplete = [\n",
    "        task for tasks in days_keys.values() for task in tasks if not task['completed']\n",
    "    ]\n",
    "    if not current_incomplete:\n",
    "        print(\"Congratulations! All tasks have been completed!\")\n",
    "\n",
    "# Call the functions\n",
    "\n",
    "update_task()\n"
   ]
  },
  {
   "cell_type": "code",
   "execution_count": 36,
   "id": "b6df7b0a-27f6-4be7-b1a6-4f283556fee1",
   "metadata": {},
   "outputs": [
    {
     "name": "stdin",
     "output_type": "stream",
     "text": [
      "Enter the day the habit was completed:  monday \n",
      "Enter the name of the habit:  eating healthy \n"
     ]
    },
    {
     "name": "stdout",
     "output_type": "stream",
     "text": [
      "Marked 'Eating Healthy' as completed on Monday. Good job!\n"
     ]
    }
   ],
   "source": [
    "#Part 3 2)\n",
    "# function to mark habits as complete\n",
    "def mark_habits(habits_week):\n",
    "    days_valid=['Monday','Tuesday','Wednesday','Thursday','Friday','Saturday','Sunday']\n",
    "\n",
    "# Ask user to input the day\n",
    "    day =input (\"Enter the day the habit was completed: \").strip().title()\n",
    "\n",
    "#validating the day\n",
    "    if day not in days_valid:\n",
    "        print(\"Invalid day, please try again.\")\n",
    "        return\n",
    "#Asking user to enter the habit\n",
    "    habit_name= input(\"Enter the name of the habit: \").strip().title()\n",
    "\n",
    "#Validating the habit\n",
    "\n",
    "    if habit_name not in habits_week:\n",
    "        print(\"Habit does not exist,please try again.\")\n",
    "        return\n",
    "#to update the habit status for that day\n",
    "    habits_week[habit_name][day]=True\n",
    "    print(f\"Marked '{habit_name}' as completed on {day}. Good job!\")\n",
    "\n",
    "mark_habits(habits_week)"
   ]
  },
  {
   "cell_type": "markdown",
   "id": "9d889f9f-d755-4609-a045-d39dcd8353c6",
   "metadata": {
    "id": "9d889f9f-d755-4609-a045-d39dcd8353c6"
   },
   "source": [
    "## Part 4: Removing Tasks and Habits\n",
    "\n",
    "For this and all subsequent submissions, track your project progress with version control in a local repository connected to GitHub. Create a directory with your first initial and last name (ex. project-sclarke for Sarah Clarke) to keep track of the files relating to the project.\n",
    "\n",
    "Next, connect the local Git repository to GitHub. Ensure the GitHub repository is set to public, and include the link here:\n",
    "\n",
    "**GitHub Link:**https://github.com/damindra94/projectD-GalbokkaH.git\n",
    "\n",
    "\n",
    "\n",
    "For tracking progress, there should be a *minimum* of 3 commits in the version history by the end of the project, one for each submission (version with parts 1-3 completed, version with parts 1-5, final submission version).\n",
    "\n",
    "\n",
    "### Instructions:\n",
    "1. Create a function to remove a task:\n",
    "- Ask the user which day the task is on.\n",
    "- Show the list of tasks for that day, if there are none, display a message saying so.\n",
    "- Ask the user which task to remove.\n",
    "- If the task exists, delete it from the dictionary using del and display a message saying which task was deleted.\n",
    "- Make sure to validate the day and check if the task exists. Display a message if the task does not exist or if the day was invalid.\n",
    "\n",
    "2. Create a function to remove a habit:\n",
    "- Display all habits that are currently being tracked.\n",
    "- Ask the user which habit to remove. Display a message if the habit does not exist.\n",
    "- If it exists in the dictionary, delete it using del and display a message saying which habit was deleted.\n",
    "- Make sure to validate the day and check if the habit exists. Display a message if the habit does not exist or if the day was invalid.\n",
    "\n",
    "#### Tips:\n",
    "- Use **.strip()** and **.title()** to clean up user input.\n",
    "- Always check if the dictionary contains data before trying to access or delete something.\n",
    "- **If the day, habit or task doesn't exist, show a helpful error message.**"
   ]
  },
  {
   "cell_type": "code",
   "execution_count": 31,
   "id": "49bc0d69-db7d-4d06-b024-5ba01de17709",
   "metadata": {
    "id": "49bc0d69-db7d-4d06-b024-5ba01de17709"
   },
   "outputs": [
    {
     "name": "stdin",
     "output_type": "stream",
     "text": [
      "Enter the day you would like to remove the task from:  monday\n"
     ]
    },
    {
     "name": "stdout",
     "output_type": "stream",
     "text": [
      "Tasks scheduled for Monday:\n",
      "- Cooking (Completed: ✅)\n",
      "- Cooking (Completed: ✅)\n",
      "- Cooking (Completed: ❌)\n",
      "- Running Errands (Completed: ❌)\n",
      "- Completing Project (Completed: ❌)\n",
      "- Cooking (Completed: ❌)\n"
     ]
    },
    {
     "name": "stdin",
     "output_type": "stream",
     "text": [
      "Enter the task you would like to remove:  cooking\n"
     ]
    },
    {
     "name": "stdout",
     "output_type": "stream",
     "text": [
      " Task Cooking has been deleted from Monday.\n"
     ]
    }
   ],
   "source": [
    "#Part 4 # Github link : https://github.com/damindra94/projectD-GalbokkaH.git\n",
    "#creating a function to remove a task\n",
    "def remove_task():\n",
    "    #Asking user for the day task needs to be removed\n",
    "    day=input(\"Enter the day you would like to remove the task from: \").strip().title()\n",
    "\n",
    "    #Validating the day and displaying error message if day was invalid\n",
    "    if day not in days_keys:\n",
    "        print(\"Invalid day. Please try again.\")\n",
    "        return\n",
    "        \n",
    "    #check for tasks on that specific day\n",
    "    if not days_keys[day]:\n",
    "        print(f\"No tasks scheduled for {day}!\")\n",
    "        return\n",
    "        \n",
    "        #lists the tasks\n",
    "    print(f\"Tasks scheduled for {day}:\")\n",
    "    for task in days_keys[day]:\n",
    "        if not isinstance(task, dict):\n",
    "            \n",
    "            continue\n",
    "        status = \"✅\" if task['completed'] else \"❌\"\n",
    "        print(f\"- {task['task_name']} (Completed: {status})\")\n",
    "    \n",
    "    #Asking user for the task they would like to remove\n",
    "    task_name=input(\"Enter the task you would like to remove: \").strip().title()\n",
    "    \n",
    "    #find and remove the task from the dictionary using del\n",
    "    for i, task in enumerate(days_keys[day]):\n",
    "        if isinstance(task,dict) and task['task_name'].lower() == task_name.lower():\n",
    "            del days_keys[day][i]\n",
    "            #Displaying message to show which task was deleted\n",
    "            print(f\" Task {task_name} has been deleted from {day}.\")\n",
    "            return\n",
    "            \n",
    "     #Displaying message if task does not exist\n",
    "    \n",
    "    print(f\"Task {task_name} not found on {day}.\")\n",
    "    \n",
    "remove_task()"
   ]
  },
  {
   "cell_type": "code",
   "execution_count": null,
   "id": "455bcee6-a825-4991-8231-6401d62dc7da",
   "metadata": {},
   "outputs": [],
   "source": []
  },
  {
   "cell_type": "code",
   "execution_count": 37,
   "id": "02fa45e1-cf69-4601-aded-b6c3cfde2070",
   "metadata": {
    "id": "02fa45e1-cf69-4601-aded-b6c3cfde2070"
   },
   "outputs": [
    {
     "name": "stdout",
     "output_type": "stream",
     "text": [
      "Habits currently tracked: \n",
      "-Drinking Water\n",
      "-Monday\n",
      "-Eating Healthy\n"
     ]
    },
    {
     "name": "stdin",
     "output_type": "stream",
     "text": [
      "Enter the habit you would like to remove:  monday\n"
     ]
    },
    {
     "name": "stdout",
     "output_type": "stream",
     "text": [
      "Habit Monday has been removed from the tracker.\n"
     ]
    }
   ],
   "source": [
    "# Creating a function to remove a habit\n",
    "\n",
    "def remove_habit(habits_week):\n",
    "    #check for habits in the tracker\n",
    "    if not habits_week:\n",
    "        print(\"No habits in current tracker!\")\n",
    "        return\n",
    "    # Displaying all habits in the tracker\n",
    "    print(\"Habits currently tracked: \")\n",
    "    for habit in habits_week:\n",
    "        print(f\"-{habit}\")\n",
    "        \n",
    "    #Asking user to enter the habit they would like to remove\n",
    "    habit_name=input(\"Enter the habit you would like to remove: \").strip().title()\n",
    "    \n",
    "    #find and remove the habit from the dictionary using del\n",
    "    if habit_name in habits_week:\n",
    "        del habits_week[habit_name]\n",
    "        print(f\"Habit {habit_name} has been removed from the tracker.\")\n",
    "    else:\n",
    "        print(f\" Habit {habit_name} does not exist! Please try again!\")\n",
    "\n",
    "remove_habit(habits_week) #calling the function"
   ]
  },
  {
   "cell_type": "markdown",
   "id": "e7f5f645-b3f5-4425-b339-2df5941fefd2",
   "metadata": {
    "id": "e7f5f645-b3f5-4425-b339-2df5941fefd2"
   },
   "source": [
    "## Part 5: Generating Weekly and Daily Reports\n",
    "\n",
    "### Instructions:\n",
    "1. Create a Weekly Report Function\n",
    "\n",
    "This function should summarize the user's progress over the entire week.\n",
    "- For Habits:\n",
    "    - Loop through each habit in your habit tracker.\n",
    "    - Count how many days the habit was marked as complete using a loop or a list comprehension.\n",
    "    - Display the habit name and the number of days it was completed out of 7.\n",
    "    - Display a message if there are no habits found.\n",
    "- For Tasks:\n",
    "    - Loop through all days and collect tasks into two separate lists:\n",
    "        - One for completed tasks\n",
    "        - One for not completed tasks\n",
    "    - Include the task name and the day in parentheses.\n",
    "    - Display both lists clearly.\n",
    "    - Display a message if there are no tasks found.\n",
    "\n",
    "2. Create a Daily Report Function\n",
    "\n",
    "This function allows the user to view all their activity for a specific day.\n",
    "\n",
    "- Ask the user to enter a day (e.g., \"Monday\").\n",
    "- If the day is valid:\n",
    "    - Display all tasks for that day, showing whether each one is complete or not.\n",
    "    - Display all habits, showing whether they were completed on that day.\n",
    "- Use ✅ for completed and ❌ for not completed.\n",
    "\n",
    "#### Tips:\n",
    "- Use **.title()** to make sure the input day matches the format in your list.\n",
    "- Use clear formatting in your print statements to separate sections.\n",
    "- Always check if the dictionary contains data before trying to access something.\n",
    "- **If the day doesn't exist, show a helpful error message.**"
   ]
  },
  {
   "cell_type": "code",
   "execution_count": 38,
   "id": "b4b1d7d1-b604-435c-887e-c83ba04f6cca",
   "metadata": {
    "id": "b4b1d7d1-b604-435c-887e-c83ba04f6cca"
   },
   "outputs": [
    {
     "name": "stdout",
     "output_type": "stream",
     "text": [
      "Weekly habit report: \n",
      " =  =  =  =  =  =  =  =  =  = \n",
      "-Drinking Water: Completed 0 out of 7 days\n",
      "-Eating Healthy: Completed 1 out of 7 days\n",
      " =  =  =  =  =  =  =  =  =  = \n",
      "Good job! You're almost there!\n"
     ]
    }
   ],
   "source": [
    "# Part 5 \n",
    "# Function for habits weekly report\n",
    "def weekly_report(habits_week):\n",
    "    #check for tracked habits\n",
    "    if not habits_week:\n",
    "        #Display message if no habits found\n",
    "        print(\"No habits found!\")\n",
    "        return\n",
    "     #Display list of tracked habits\n",
    "    print(\"Weekly habit report: \")\n",
    "    print(\" = \"*10)\n",
    "\n",
    "    # count how many days the habit was tracked as completed using a list comprehension\n",
    "    for habit, days in habits_week.items():\n",
    "        completed_days=sum(1 for completed in days.values() if completed)\n",
    "\n",
    "        # display the habit name and the number of days the habit was completed out of 7\n",
    "        \n",
    "        print(f\"-{habit}: Completed {completed_days} out of 7 days\")\n",
    "    print(\" = \"*10)\n",
    "    print(\"Good job! You're almost there!\")\n",
    "\n",
    "weekly_report(habits_week)\n",
    "\n"
   ]
  },
  {
   "cell_type": "code",
   "execution_count": 46,
   "id": "5b16088c-530a-492a-b507-58b73d6c73ad",
   "metadata": {
    "id": "5b16088c-530a-492a-b507-58b73d6c73ad"
   },
   "outputs": [
    {
     "name": "stdout",
     "output_type": "stream",
     "text": [
      "Weekly Task Summary : \n",
      "Completed tasks: \n",
      "- Cooking (Monday)\n",
      "- Running (Tuesday)\n",
      " =  =  =  =  =  =  =  =  =  =  =  =  =  =  =  =  =  =  =  = \n",
      "Incomplete tasks: \n",
      "-Cooking (Monday)\n",
      "-Running Errands (Monday)\n",
      "-Completing Project (Monday)\n",
      "-Cooking (Monday)\n",
      "-Running (Monday)\n",
      "-Grocery Shopping (Tuesday)\n",
      "-Grocery Shopping (Wednesday)\n",
      "-Cooking (Wednesday)\n",
      "-Completing Project (Friday)\n",
      "-Swimming Lessons (Sunday)\n"
     ]
    }
   ],
   "source": [
    "#Part 5 \n",
    "#Function for tasks weekly report\n",
    "\n",
    "def task_weekly_report(days_keys):\n",
    "    completed_tasks=[]\n",
    "    incomplete_tasks=[]\n",
    "\n",
    "    #looping through all days and collecting tasks\n",
    "    for day, tasks in days_keys.items():\n",
    "        for task in tasks:\n",
    "            task_details=f\"{task['task_name']} ({day})\"\n",
    "            if task['completed']:\n",
    "                completed_tasks.append(task_details)\n",
    "            else:\n",
    "                incomplete_tasks.append(task_details)\n",
    "                \n",
    "      # displaying message if no tasks are found          \n",
    "    if not completed_tasks and not incomplete_tasks:\n",
    "        print(\"No tasks found!\")\n",
    "        return\n",
    "    print(\"Weekly Task Summary : \")\n",
    "    \n",
    "    #Displaying the completed tasks list\n",
    "    print(\"Completed tasks: \")\n",
    "   \n",
    "    if completed_tasks:\n",
    "        for task in completed_tasks:\n",
    "            print(f\"- {task}\")\n",
    "    else:\n",
    "        print (\"No tasks completed yet!\")\n",
    "    print(\" = \"*20)\n",
    "    print(\"Incomplete tasks: \")\n",
    "    if incomplete_tasks:\n",
    "        for task in incomplete_tasks:\n",
    "            print(f\"-{task}\")\n",
    "    else:\n",
    "        print(\"Good job! All tasks are completed!\")\n",
    "    \n",
    "task_weekly_report(days_keys)\n",
    "\n"
   ]
  },
  {
   "cell_type": "code",
   "execution_count": 47,
   "id": "1c680917-0e53-475d-847d-050cde76c610",
   "metadata": {},
   "outputs": [
    {
     "name": "stdin",
     "output_type": "stream",
     "text": [
      "Enter the day you would like a report for (e.g. Monday):  monday\n"
     ]
    },
    {
     "name": "stdout",
     "output_type": "stream",
     "text": [
      "Daily report for Monday\n",
      "Tasks: \n",
      "✅Cooking\n",
      "❌Cooking\n",
      "❌Running Errands\n",
      "❌Completing Project\n",
      "❌Cooking\n",
      "❌Running\n",
      " =  =  =  =  =  =  =  =  =  = \n",
      "Habits: \n",
      " ❌ Drinking Water\n",
      "✅ Eating Healthy\n"
     ]
    }
   ],
   "source": [
    "# Creating a daily report function\n",
    "def daily_report(days_keys, habits_week):\n",
    "    valid_days= ['Monday','Tuesday','Wednesday','Thursday','Friday','Saturday','Sunday']\n",
    "\n",
    "    #Asking the user to enter the day for a report\n",
    "    day=input(\"Enter the day you would like a report for (e.g. Monday): \").strip().title()\n",
    "    if day not in valid_days:\n",
    "        print(\"Invalid day!Please try again!\")\n",
    "        return\n",
    "        #Displaying all tasks for that day\n",
    "    print(f\"Daily report for {day}\")\n",
    "    print(\"Tasks: \")\n",
    "    if day in days_keys and days_keys[day]:\n",
    "        for task in days_keys[day]:\n",
    "            status= \"✅\" if task ['completed'] else \"❌\"\n",
    "            print(f\"{status}{task[\"task_name\"]}\")\n",
    "    else:\n",
    "        print(\"No tasks scheduled for the day.\")\n",
    "    print(\" = \"*10)\n",
    "    \n",
    "    #Displaying all habits for that day \n",
    "    print(\"Habits: \")\n",
    "    habit_locate=False\n",
    "    for habit, days in habits_week.items():\n",
    "        if day in days:\n",
    "            habit_locate=True\n",
    "            status=\"✅\" if days[day] else \" ❌\"\n",
    "            print(f\"{status} {habit}\")\n",
    "    if not habit_locate:\n",
    "       print(\"Sorry,no habits tracked for the day!\")\n",
    "\n",
    "daily_report(days_keys, habits_week)  \n",
    "    "
   ]
  },
  {
   "cell_type": "markdown",
   "id": "6fa4385e-f80a-4465-abf2-5593d6afb88e",
   "metadata": {
    "id": "6fa4385e-f80a-4465-abf2-5593d6afb88e"
   },
   "source": [
    "## Part 6: Instructions – Building the Main Menu System\n",
    "In this final part, you'll create a main control loop that acts as the user interface for your program. This allows users to interact with your habit and task tracker through a series of text-based menu options.\n",
    "\n",
    "### Instructions:\n",
    "1. Set Up a Loop: Use a loop to keep showing the menu until the user chooses to exit.\n",
    "\n",
    "2. Display the Main Menu\n",
    "- Show numbered options for:\n",
    "    - 1. Adding a Task or Habit\n",
    "    - 2. Marking a Task or Habit as complete\n",
    "    - 3. Removing a Task or Habit\n",
    "    - 4. Viewing reports\n",
    "    - 5. Exiting the program\n",
    "\n",
    "3. Handle User Input\n",
    "   \n",
    "Ask the user to choose an option using input(). Based on the number they enter:\n",
    "\n",
    "- Option 1: Ask whether they want to add a Task or a Habit. Call the correct function.\n",
    "- Option 2: Ask whether they want to mark a Task or Habit as complete. Call the right function.\n",
    "- Option 3: Ask whether they want to remove a Task or a Habit. Call the appropriate function.\n",
    "- Option 4: Ask whether they want a Weekly or Daily report. Call the corresponding function.\n",
    "- Option 5: Exit the loop using break.\n",
    "\n",
    "4. Validate Input: Check for valid input at each step. If the user enters an invalid choice, show an error message and return to the menu."
   ]
  },
  {
   "cell_type": "code",
   "execution_count": 49,
   "id": "e7c12d32-31d4-4c02-8e19-3304dfea818b",
   "metadata": {
    "id": "e7c12d32-31d4-4c02-8e19-3304dfea818b",
    "outputId": "f9bc33c1-9598-4b6f-e95d-4af49c39bf57"
   },
   "outputs": [
    {
     "name": "stdout",
     "output_type": "stream",
     "text": [
      "\n",
      "====================\n",
      "Main Menu\n",
      "********************\n",
      "Weekly Habit and Task Tracker : \n",
      "********************\n",
      "1. Add a Task or a Habit\n",
      "2. Mark a Task or a Habit as Completed\n",
      "3. Remove a Task or a Habit\n",
      "4. View Weekly or Daily Reports\n",
      "5. Exit\n"
     ]
    },
    {
     "name": "stdin",
     "output_type": "stream",
     "text": [
      "Enter your option (e.g. choose an option from 1-5):  1\n",
      "Would you like to add a Task or Habit?  task\n",
      "Enter the day you would like to add the task to:  monday\n",
      "Enter the task for the day:  plan a trip\n"
     ]
    },
    {
     "name": "stdout",
     "output_type": "stream",
     "text": [
      "Task entered for the day has not been completed yet!\n",
      "\n",
      "====================\n",
      "Main Menu\n",
      "********************\n",
      "Weekly Habit and Task Tracker : \n",
      "********************\n",
      "1. Add a Task or a Habit\n",
      "2. Mark a Task or a Habit as Completed\n",
      "3. Remove a Task or a Habit\n",
      "4. View Weekly or Daily Reports\n",
      "5. Exit\n"
     ]
    },
    {
     "name": "stdin",
     "output_type": "stream",
     "text": [
      "Enter your option (e.g. choose an option from 1-5):  3\n",
      "Would you like to remove a Task or Habit?  task\n",
      "Enter the day you would like to remove the task from:  monday\n"
     ]
    },
    {
     "name": "stdout",
     "output_type": "stream",
     "text": [
      "Tasks scheduled for Monday:\n",
      "- Cooking (Completed: ✅)\n",
      "- Cooking (Completed: ❌)\n",
      "- Running Errands (Completed: ❌)\n",
      "- Completing Project (Completed: ❌)\n",
      "- Cooking (Completed: ❌)\n",
      "- Running (Completed: ❌)\n",
      "- Plan A Trip (Completed: ❌)\n"
     ]
    },
    {
     "name": "stdin",
     "output_type": "stream",
     "text": [
      "Enter the task you would like to remove:  plan a trip\n"
     ]
    },
    {
     "name": "stdout",
     "output_type": "stream",
     "text": [
      " Task Plan A Trip has been deleted from Monday.\n",
      "\n",
      "====================\n",
      "Main Menu\n",
      "********************\n",
      "Weekly Habit and Task Tracker : \n",
      "********************\n",
      "1. Add a Task or a Habit\n",
      "2. Mark a Task or a Habit as Completed\n",
      "3. Remove a Task or a Habit\n",
      "4. View Weekly or Daily Reports\n",
      "5. Exit\n"
     ]
    },
    {
     "name": "stdin",
     "output_type": "stream",
     "text": [
      "Enter your option (e.g. choose an option from 1-5):  5\n"
     ]
    },
    {
     "name": "stdout",
     "output_type": "stream",
     "text": [
      "Exiting! Good bye!\n"
     ]
    }
   ],
   "source": [
    "# Part 6\n",
    "\n",
    "# Setting up a loop to keep showing the menu\n",
    "\n",
    "def main_menu():\n",
    "    while True:\n",
    "        print(\"\\n\" + \"=\"*20)\n",
    "        print (\"Main Menu\")\n",
    "        print (\"*\"*20)\n",
    "        print(\"Weekly Habit and Task Tracker : \")\n",
    "        print(\"*\"*20)\n",
    "        print(\"1. Add a Task or a Habit\")\n",
    "        print(\"2. Mark a Task or a Habit as Completed\")\n",
    "        print(\"3. Remove a Task or a Habit\")\n",
    "        print(\"4. View Weekly or Daily Reports\")\n",
    "        print(\"5. Exit\")\n",
    "   \n",
    "# Asking user to choose an option and calling the right function based on the user's input\n",
    "        option=input(\"Enter your option (e.g. choose an option from 1-5): \").strip()\n",
    "        #validating input at each step\n",
    "        if option == \"1\":\n",
    "            sub_option = input(\"Would you like to add a Task or Habit? \").strip().lower()\n",
    "            if sub_option ==  \"task\":\n",
    "                add_task(days_keys)\n",
    "            elif sub_option == \"habit\":\n",
    "                enter_habit(habits_week)\n",
    "            else:\n",
    "                print(\"Invalid input! Please enter 'Task' or 'Habit'! \")\n",
    "                \n",
    "        elif option == '2':\n",
    "            sub_option = input(\"Would you like to mark a Task or Habit as completed? \").strip().lower()\n",
    "            if sub_option == 'task':\n",
    "                update_task()\n",
    "            elif sub_option ==  'habit':\n",
    "                mark_habits(habits_week)\n",
    "            else:\n",
    "                print(\"Invalid input. Please enter 'Task' or 'Habit'! \")\n",
    "        elif option =='3':\n",
    "            sub_option= input (\"Would you like to remove a Task or Habit? \").strip().lower()\n",
    "            if sub_option == 'task':\n",
    "                remove_task()\n",
    "            elif sub_option =='habit':\n",
    "                remove_habit(habits_week)\n",
    "            else:\n",
    "                print(\"Invalid input. Please enter 'Task' or 'Habit'! \")\n",
    "        elif option =='4':\n",
    "            sub_option=input(\"Would you like to view a weekly or daily report?\").strip().lower()\n",
    "            if sub_option ==\"weekly\":\n",
    "                print (\"***** Weekly Reports *******\")\n",
    "                task_weekly_report(days_keys)\n",
    "                weekly_report(habits_week)\n",
    "            elif sub_option == 'daily':\n",
    "                daily_report(days_keys,habits_week)\n",
    "            else:\n",
    "                print(\" Invalid input. Please enter 'Weekly' or 'Daily'.\")\n",
    "        elif option=='5':\n",
    "            print(\"Exiting! Good bye!\")\n",
    "            break\n",
    "        # if user enters an invalid option, displaying error message and returning to the main menu\n",
    "        else:\n",
    "           print(\"Invalid option! Please enter a number from 1 - 5.\")\n",
    "\n",
    "if __name__ == \"__main__\":\n",
    "    main_menu()\n",
    "        "
   ]
  }
 ],
 "metadata": {
  "colab": {
   "provenance": []
  },
  "kernelspec": {
   "display_name": "Python 3 (ipykernel)",
   "language": "python",
   "name": "python3"
  },
  "language_info": {
   "codemirror_mode": {
    "name": "ipython",
    "version": 3
   },
   "file_extension": ".py",
   "mimetype": "text/x-python",
   "name": "python",
   "nbconvert_exporter": "python",
   "pygments_lexer": "ipython3",
   "version": "3.12.7"
  }
 },
 "nbformat": 4,
 "nbformat_minor": 5
}
